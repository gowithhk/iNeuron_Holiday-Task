{
 "cells": [
  {
   "cell_type": "raw",
   "metadata": {},
   "source": [
    "1 . you have to write a fun which will take string and return a len of \n",
    "it without using a inbuilt fun len\n",
    "2 . write a fun which will be able to print an index of all premitive element which you will pass \n",
    "3 . Write a fun which will take input as a dict and give me out as a list of all the values \n",
    "even in case of 2 level nesting it should work . \n",
    "4 . write a fun which will take another function as an input and return me an output \n",
    "5. write a function whihc will take multiple list as a input and give me concatnation of all the element as \n",
    "and output \n",
    "6 . write a function which will be able to take a list as an input return an index of each element \n",
    "like a inbuilt index function but even if we have repetative element it should return index \n",
    "7 . Write a function which will whould return list of all the file name from a directory . \n",
    "8  . write a function which will be able to show your system configuration . \n",
    "9 . write a function which will be able to show date and time  . \n",
    "10 . write a function whihc will be able to read a image file and show it to you .\n",
    "11 . write a function which can read video file and play for you . \n",
    "12  . write a function whihc can move a file from one directory to another directory . \n",
    "13 . write a function which will be able to shutdonw your system . \n",
    "14 . write a function whihc will be able to access your mail . \n",
    "15 . write a func bywhcih i can send a mail to anyone \n",
    "16. write a func to read a complete PDf file . \n",
    "17. write a function to read a word file . \n",
    "18 . write a function which can help you to filter only word file from a directory . \n",
    "19 . write a function by which you can print an ip address of your system . \n",
    "20 . write a function by whihc you will be able to append two PDF files . "
   ]
  },
  {
   "cell_type": "markdown",
   "metadata": {},
   "source": [
    "# Ans 1"
   ]
  },
  {
   "cell_type": "raw",
   "metadata": {},
   "source": [
    "you have to write a fun which will take string and return a len of \n",
    "it without using a inbuilt fun len"
   ]
  },
  {
   "cell_type": "code",
   "execution_count": 1,
   "metadata": {},
   "outputs": [],
   "source": [
    "def fun1(s) :\n",
    "    '''\n",
    "    The program takes string as an Input\n",
    "    Pass Input as a String\n",
    "    '''\n",
    "    c=0\n",
    "    if type(s) == str :\n",
    "        for i in s:\n",
    "            c = c+1\n",
    "            b = \"Length of the string is : \" + str(c)\n",
    "            return b\n",
    "            \n",
    "    else : \n",
    "        return \"Not a String!!!\"\n",
    "\n",
    "            "
   ]
  },
  {
   "cell_type": "code",
   "execution_count": 2,
   "metadata": {},
   "outputs": [
    {
     "data": {
      "text/plain": [
       "'Length of the string is : 1'"
      ]
     },
     "execution_count": 2,
     "metadata": {},
     "output_type": "execute_result"
    }
   ],
   "source": [
    "fun1(\"harsh kumar\")"
   ]
  },
  {
   "cell_type": "code",
   "execution_count": 3,
   "metadata": {},
   "outputs": [
    {
     "data": {
      "text/plain": [
       "'Not a String!!!'"
      ]
     },
     "execution_count": 3,
     "metadata": {},
     "output_type": "execute_result"
    }
   ],
   "source": [
    "fun1(3)"
   ]
  },
  {
   "cell_type": "code",
   "execution_count": 4,
   "metadata": {},
   "outputs": [
    {
     "name": "stdout",
     "output_type": "stream",
     "text": [
      "Help on function fun1 in module __main__:\n",
      "\n",
      "fun1(s)\n",
      "    The program takes string as an Input\n",
      "    Pass Input as a String\n",
      "\n"
     ]
    }
   ],
   "source": [
    "help(fun1)"
   ]
  },
  {
   "cell_type": "code",
   "execution_count": null,
   "metadata": {},
   "outputs": [],
   "source": []
  },
  {
   "cell_type": "markdown",
   "metadata": {},
   "source": [
    "# Ans 2"
   ]
  },
  {
   "cell_type": "raw",
   "metadata": {},
   "source": [
    " write a fun which will be able to print an index of all premitive element which you will pass "
   ]
  },
  {
   "cell_type": "code",
   "execution_count": 5,
   "metadata": {},
   "outputs": [],
   "source": [
    "def fun2(s) :\n",
    "    '''\n",
    "    The program takes list as an Input\n",
    "    Pass List of Elements and get the Index\n",
    "    '''\n",
    "    lst = []\n",
    "    \n",
    "    if type(s) == list:\n",
    "        for i in range(len(s)) :\n",
    "            #print(i, s[i])\n",
    "            lst.append(s[i])\n",
    "                                \n",
    "        for i in range(len(lst)) :\n",
    "            print(i, lst[i])\n",
    "                    \n",
    "    else :\n",
    "        print('Passed object is not a List!')\n",
    "        \n",
    "    \n"
   ]
  },
  {
   "cell_type": "code",
   "execution_count": 6,
   "metadata": {},
   "outputs": [
    {
     "name": "stdout",
     "output_type": "stream",
     "text": [
      "0 0\n",
      "1 1\n",
      "2 abc\n",
      "3 21\n",
      "4 ['abcdef', 49, 0, 1]\n",
      "5 (1, 2)\n",
      "6 53\n"
     ]
    }
   ],
   "source": [
    "fun2([0,1,'abc',21, ['abcdef', 49, 0, 1], (1,2), 53])"
   ]
  },
  {
   "cell_type": "code",
   "execution_count": 7,
   "metadata": {},
   "outputs": [
    {
     "name": "stdout",
     "output_type": "stream",
     "text": [
      "Help on function fun2 in module __main__:\n",
      "\n",
      "fun2(s)\n",
      "    The program takes list as an Input\n",
      "    Pass List of Elements and get the Index\n",
      "\n"
     ]
    }
   ],
   "source": [
    "help(fun2)"
   ]
  },
  {
   "cell_type": "code",
   "execution_count": null,
   "metadata": {},
   "outputs": [],
   "source": []
  },
  {
   "cell_type": "markdown",
   "metadata": {},
   "source": [
    "# Ans 3"
   ]
  },
  {
   "cell_type": "raw",
   "metadata": {},
   "source": [
    "Write a fun which will take input as a dict and give me out as a list of all the values \n",
    "even in case of 2 level nesting it should work . "
   ]
  },
  {
   "cell_type": "code",
   "execution_count": 8,
   "metadata": {},
   "outputs": [],
   "source": [
    "a = {\n",
    "     \"name\" : \"harsh\",\n",
    "    \"city\" : \"jamshedpur\",\n",
    "    'ph_no': 8002078224,\n",
    "    'dict1' : {\n",
    "        'a' : 11,\n",
    "        'b' : 12,\n",
    "        'c' : 13,\n",
    "        'd' : {\n",
    "            'x' : 121,\n",
    "            'y' : 225\n",
    "        }\n",
    "    }\n",
    "}\n",
    "\n",
    "list1 = []\n",
    "\n",
    "def fun3(a):\n",
    "    \n",
    "    '''\n",
    "    The program takes dict as an Input\n",
    "    Works upto 2 level nesting\n",
    "    '''\n",
    "        \n",
    "    for i in a.values():\n",
    "        if type(i) == dict :\n",
    "            for j in i.values() :\n",
    "                if type(j) == dict :\n",
    "                    for k in j.values():\n",
    "                        list1.append(k)\n",
    "                        \n",
    "        if type(i) == dict :\n",
    "            for j in i.values() :\n",
    "                if type(j) == int :\n",
    "                    list1.append(j)\n",
    "                    \n",
    "        elif type(i) == int :\n",
    "            list1.append(i)\n",
    "            \n",
    "        else :\n",
    "            list1.append(i)\n",
    "            \n",
    "    return list1\n",
    "    "
   ]
  },
  {
   "cell_type": "code",
   "execution_count": 9,
   "metadata": {},
   "outputs": [
    {
     "data": {
      "text/plain": [
       "['harsh', 'jamshedpur', 8002078224, 121, 225, 11, 12, 13]"
      ]
     },
     "execution_count": 9,
     "metadata": {},
     "output_type": "execute_result"
    }
   ],
   "source": [
    "fun3(a)"
   ]
  },
  {
   "cell_type": "code",
   "execution_count": 10,
   "metadata": {},
   "outputs": [
    {
     "name": "stdout",
     "output_type": "stream",
     "text": [
      "Help on function fun3 in module __main__:\n",
      "\n",
      "fun3(a)\n",
      "    The program takes dict as an Input\n",
      "    Works upto 2 level nesting\n",
      "\n"
     ]
    }
   ],
   "source": [
    "help(fun3)"
   ]
  },
  {
   "cell_type": "code",
   "execution_count": null,
   "metadata": {},
   "outputs": [],
   "source": []
  },
  {
   "cell_type": "markdown",
   "metadata": {},
   "source": [
    "# Ans 4"
   ]
  },
  {
   "cell_type": "raw",
   "metadata": {},
   "source": [
    "write a fun which will take another function as an input and return me an output "
   ]
  },
  {
   "cell_type": "code",
   "execution_count": 11,
   "metadata": {},
   "outputs": [],
   "source": [
    "def x():\n",
    "    \"\"\"\n",
    "    this function return sum of two numbers\n",
    "    \"\"\"\n",
    "    a = int(input(\"Enter a : \"))\n",
    "    b = int(input(\"Enter b : \"))\n",
    "    sum = a+b\n",
    "    \n",
    "    return sum"
   ]
  },
  {
   "cell_type": "code",
   "execution_count": 12,
   "metadata": {},
   "outputs": [
    {
     "name": "stdout",
     "output_type": "stream",
     "text": [
      "Enter a : 12\n",
      "Enter b : 12\n"
     ]
    }
   ],
   "source": [
    "a = x()\n",
    "\n",
    "def fun4(a):\n",
    "    \"\"\"\n",
    "    this function takes above function as in input and returns the square of it\n",
    "    \"\"\"\n",
    "\n",
    "    sq = a*a\n",
    "    \n",
    "    return sq"
   ]
  },
  {
   "cell_type": "code",
   "execution_count": 13,
   "metadata": {},
   "outputs": [
    {
     "data": {
      "text/plain": [
       "576"
      ]
     },
     "execution_count": 13,
     "metadata": {},
     "output_type": "execute_result"
    }
   ],
   "source": [
    "fun4(a)"
   ]
  },
  {
   "cell_type": "code",
   "execution_count": 14,
   "metadata": {},
   "outputs": [
    {
     "name": "stdout",
     "output_type": "stream",
     "text": [
      "Help on function x in module __main__:\n",
      "\n",
      "x()\n",
      "    this function return sum of two numbers\n",
      "\n"
     ]
    }
   ],
   "source": [
    "help(x)"
   ]
  },
  {
   "cell_type": "code",
   "execution_count": 15,
   "metadata": {},
   "outputs": [
    {
     "name": "stdout",
     "output_type": "stream",
     "text": [
      "Help on function fun4 in module __main__:\n",
      "\n",
      "fun4(a)\n",
      "    this function takes above function as in input and returns the square of it\n",
      "\n"
     ]
    }
   ],
   "source": [
    "help(fun4)"
   ]
  },
  {
   "cell_type": "code",
   "execution_count": null,
   "metadata": {},
   "outputs": [],
   "source": []
  },
  {
   "cell_type": "markdown",
   "metadata": {},
   "source": [
    "# Ans 5"
   ]
  },
  {
   "cell_type": "raw",
   "metadata": {},
   "source": [
    "write a function which will take multiple list as an input and give me concatenation of all the elements as \n",
    "an output"
   ]
  },
  {
   "cell_type": "code",
   "execution_count": 16,
   "metadata": {},
   "outputs": [],
   "source": [
    "lst = []\n",
    "\n",
    "def fun5(a,b) :\n",
    "    \"\"\"\n",
    "    Here, this function takes two diffrent lists as an Input and it Concatenates them and display\n",
    "    \"\"\"\n",
    "    lst = a + b\n",
    "    \n",
    "    return lst\n",
    "    "
   ]
  },
  {
   "cell_type": "code",
   "execution_count": 17,
   "metadata": {},
   "outputs": [
    {
     "data": {
      "text/plain": [
       "['abc', 12, 9, 1, 2, 4]"
      ]
     },
     "execution_count": 17,
     "metadata": {},
     "output_type": "execute_result"
    }
   ],
   "source": [
    "fun5(['abc', 12, 9], [1, 2, 4])"
   ]
  },
  {
   "cell_type": "code",
   "execution_count": 18,
   "metadata": {},
   "outputs": [
    {
     "data": {
      "text/plain": [
       "[12, 9, 12, 9]"
      ]
     },
     "execution_count": 18,
     "metadata": {},
     "output_type": "execute_result"
    }
   ],
   "source": [
    "fun5([12, 9], [12, 9])"
   ]
  },
  {
   "cell_type": "code",
   "execution_count": 19,
   "metadata": {},
   "outputs": [
    {
     "name": "stdout",
     "output_type": "stream",
     "text": [
      "Help on function fun5 in module __main__:\n",
      "\n",
      "fun5(a, b)\n",
      "    Here, this function takes two diffrent lists as an Input and it Concatenates them and display\n",
      "\n"
     ]
    }
   ],
   "source": [
    "help(fun5)"
   ]
  },
  {
   "cell_type": "code",
   "execution_count": null,
   "metadata": {},
   "outputs": [],
   "source": []
  },
  {
   "cell_type": "code",
   "execution_count": null,
   "metadata": {},
   "outputs": [],
   "source": []
  },
  {
   "cell_type": "markdown",
   "metadata": {},
   "source": [
    "# Ans 6"
   ]
  },
  {
   "cell_type": "raw",
   "metadata": {},
   "source": [
    "write a function which will be able to take a list as an input return an index of each element \n",
    "like a inbuilt index function but even if we have repetative element it should return index "
   ]
  },
  {
   "cell_type": "code",
   "execution_count": 20,
   "metadata": {},
   "outputs": [],
   "source": [
    "def fun6(s):\n",
    "    \"\"\"\n",
    "    Takes list as an Input and returns the index of all the elements\n",
    "    \"\"\"\n",
    "    if type(s) == list:\n",
    "        for i in range(len(s)) :\n",
    "            print(i, s[i])\n",
    "    else :\n",
    "        print('Not a List!')"
   ]
  },
  {
   "cell_type": "code",
   "execution_count": 21,
   "metadata": {},
   "outputs": [
    {
     "name": "stdout",
     "output_type": "stream",
     "text": [
      "0 1\n",
      "1 2\n",
      "2 3\n",
      "3 4\n",
      "4 5\n",
      "5 6\n",
      "6 7\n",
      "7 abc\n",
      "8 b\n",
      "9 b\n",
      "10 1\n",
      "11 2\n",
      "12 3\n",
      "13 5\n"
     ]
    }
   ],
   "source": [
    "fun6([1,2,3,4,5,6,7,'abc', 'b', 'b', 1,2,3,5])"
   ]
  },
  {
   "cell_type": "code",
   "execution_count": 22,
   "metadata": {
    "scrolled": true
   },
   "outputs": [
    {
     "name": "stdout",
     "output_type": "stream",
     "text": [
      "Help on function fun6 in module __main__:\n",
      "\n",
      "fun6(s)\n",
      "    Takes list as an Input and returns the index of all the elements\n",
      "\n"
     ]
    }
   ],
   "source": [
    "help(fun6)"
   ]
  },
  {
   "cell_type": "code",
   "execution_count": null,
   "metadata": {},
   "outputs": [],
   "source": []
  },
  {
   "cell_type": "markdown",
   "metadata": {},
   "source": [
    "# Ans 7"
   ]
  },
  {
   "cell_type": "raw",
   "metadata": {},
   "source": [
    "Write a function which will whould return list of all the file name from a directory . "
   ]
  },
  {
   "cell_type": "code",
   "execution_count": 23,
   "metadata": {},
   "outputs": [],
   "source": [
    "import os\n",
    "\n",
    "def fun7():\n",
    "    \"\"\"\n",
    "    This function uses os library and returns the list of all the file names in the root directory\n",
    "    \"\"\"\n",
    "    path = \"/\" # / is the root directory\n",
    "\n",
    "    dir = os.listdir(path)\n",
    "\n",
    "    print(\"List of file names from the directory '\", path,\"' :\" )\n",
    "\n",
    "    return dir\n",
    "\n"
   ]
  },
  {
   "cell_type": "code",
   "execution_count": 24,
   "metadata": {},
   "outputs": [
    {
     "name": "stdout",
     "output_type": "stream",
     "text": [
      "List of file names from the directory ' / ' :\n"
     ]
    },
    {
     "data": {
      "text/plain": [
       "['$AV_ASW',\n",
       " '$RECYCLE.BIN',\n",
       " '$SysReset',\n",
       " '$WINDOWS.~BT',\n",
       " '$Windows.~WS',\n",
       " '$WinREAgent',\n",
       " 'adb',\n",
       " 'Android',\n",
       " 'Basic.ini',\n",
       " 'CAP.xml',\n",
       " 'Config.Msi',\n",
       " 'data',\n",
       " 'default.xml',\n",
       " 'devlist.txt',\n",
       " 'Documents and Settings',\n",
       " 'downloading-apk.xml',\n",
       " 'DRIVERS',\n",
       " 'DumpStack.log.tmp',\n",
       " 'ESD',\n",
       " 'eSupport',\n",
       " 'GetProfile_2 .xml',\n",
       " 'HaxLogs.txt',\n",
       " 'Intel',\n",
       " 'java',\n",
       " 'MSOCache',\n",
       " 'My Drivers',\n",
       " 'NvContainerRecoveryNvContainerLocalSystem.reg',\n",
       " 'NvContainerRecoveryNVDisplay.ContainerLocalSystem.reg',\n",
       " 'OneDriveTemp',\n",
       " 'pefdata.dat',\n",
       " 'PerfLogs',\n",
       " 'Program Files',\n",
       " 'Program Files (x86)',\n",
       " 'ProgramData',\n",
       " 'Python27',\n",
       " 'Python29',\n",
       " 'Recovery',\n",
       " 'RegBackup',\n",
       " 'swapfile.sys',\n",
       " 'System Volume Information',\n",
       " 'Temp',\n",
       " 'TURBOC3',\n",
       " 'Users',\n",
       " 'Windows',\n",
       " 'WMSDK',\n",
       " '~{4E2EBFC7-2CDF-4F4C-A8C7-3C2E0C3DF477}.st']"
      ]
     },
     "execution_count": 24,
     "metadata": {},
     "output_type": "execute_result"
    }
   ],
   "source": [
    "fun7()"
   ]
  },
  {
   "cell_type": "code",
   "execution_count": 25,
   "metadata": {},
   "outputs": [
    {
     "name": "stdout",
     "output_type": "stream",
     "text": [
      "Help on function fun7 in module __main__:\n",
      "\n",
      "fun7()\n",
      "    This function uses os library and returns the list of all the file names in the root directory\n",
      "\n"
     ]
    }
   ],
   "source": [
    "help(fun7)"
   ]
  },
  {
   "cell_type": "code",
   "execution_count": null,
   "metadata": {},
   "outputs": [],
   "source": []
  },
  {
   "cell_type": "markdown",
   "metadata": {},
   "source": [
    "# Ans 8"
   ]
  },
  {
   "cell_type": "raw",
   "metadata": {},
   "source": [
    "write a function which will be able to show your system configuration . "
   ]
  },
  {
   "cell_type": "code",
   "execution_count": 26,
   "metadata": {},
   "outputs": [],
   "source": [
    "\n",
    "import platform\n",
    "\n",
    "def fun8():\n",
    "    \n",
    "    \"\"\"\n",
    "    This function uses platform library and shows the system info\n",
    "    \"\"\"\n",
    "    \n",
    "    print(\"System:\", platform.system())\n",
    "    print(\"Node Name:\", platform.node())  \n",
    "    print(\"Release:\", platform.release())\n",
    "    print(\"Version:\", platform.version())\n",
    "    print(\"Machine:\", platform.machine())\n",
    "    print(\"Processor:\", platform.processor())\n",
    "\n",
    "    return\n",
    "\n"
   ]
  },
  {
   "cell_type": "code",
   "execution_count": 27,
   "metadata": {},
   "outputs": [
    {
     "name": "stdout",
     "output_type": "stream",
     "text": [
      "System: Windows\n",
      "Node Name: LAPTOP-SH5C8PV1\n",
      "Release: 10\n",
      "Version: 10.0.19041\n",
      "Machine: AMD64\n",
      "Processor: Intel64 Family 6 Model 158 Stepping 10, GenuineIntel\n"
     ]
    }
   ],
   "source": [
    "fun8()"
   ]
  },
  {
   "cell_type": "code",
   "execution_count": 28,
   "metadata": {},
   "outputs": [
    {
     "name": "stdout",
     "output_type": "stream",
     "text": [
      "Help on function fun8 in module __main__:\n",
      "\n",
      "fun8()\n",
      "    This function uses platform library and shows the system info\n",
      "\n"
     ]
    }
   ],
   "source": [
    "help(fun8)"
   ]
  },
  {
   "cell_type": "code",
   "execution_count": null,
   "metadata": {},
   "outputs": [],
   "source": []
  },
  {
   "cell_type": "markdown",
   "metadata": {},
   "source": [
    "# Ans 9"
   ]
  },
  {
   "cell_type": "raw",
   "metadata": {},
   "source": [
    "write a function which will be able to show date and time. "
   ]
  },
  {
   "cell_type": "code",
   "execution_count": null,
   "metadata": {},
   "outputs": [],
   "source": []
  },
  {
   "cell_type": "code",
   "execution_count": 29,
   "metadata": {},
   "outputs": [],
   "source": [
    "import datetime #for date & time \n",
    "import pytz #for timezone\n",
    "\n",
    "def fun9() :\n",
    "    \"\"\"\n",
    "    This function shows the date and time of the system's timezone\n",
    "    \"\"\"\n",
    "    current_time = datetime.datetime.now()\n",
    "    print(current_time)\n",
    "    \n",
    "    return\n",
    "    "
   ]
  },
  {
   "cell_type": "code",
   "execution_count": 30,
   "metadata": {},
   "outputs": [
    {
     "name": "stdout",
     "output_type": "stream",
     "text": [
      "2022-01-02 08:22:48.385384\n"
     ]
    }
   ],
   "source": [
    "fun9()"
   ]
  },
  {
   "cell_type": "code",
   "execution_count": 31,
   "metadata": {},
   "outputs": [
    {
     "name": "stdout",
     "output_type": "stream",
     "text": [
      "Help on function fun9 in module __main__:\n",
      "\n",
      "fun9()\n",
      "    This function shows the date and time of the system's timezone\n",
      "\n"
     ]
    }
   ],
   "source": [
    "help(fun9)"
   ]
  },
  {
   "cell_type": "code",
   "execution_count": null,
   "metadata": {},
   "outputs": [],
   "source": []
  },
  {
   "cell_type": "markdown",
   "metadata": {},
   "source": [
    "# Ans 10"
   ]
  },
  {
   "cell_type": "raw",
   "metadata": {},
   "source": [
    "write a function which will be able to read a image file and show it to you ."
   ]
  },
  {
   "cell_type": "code",
   "execution_count": 32,
   "metadata": {},
   "outputs": [],
   "source": [
    "import cv2\n",
    "\n",
    "def fun10() :\n",
    "    \"\"\"\n",
    "    This function displays the image using cv2 library.\n",
    "    \"\"\"\n",
    "    # Reading RGB image\n",
    "    img = cv2.imread('ineuron.png') \n",
    "\n",
    "    # Output img with window name as 'image'\n",
    "    cv2.imshow('iNeuron', img) \n",
    "\n",
    "    # Maintain output window until a user presses a key\n",
    "    cv2.waitKey(0)        \n",
    "\n",
    "    # Destroying present windows on screen\n",
    "    cv2.destroyAllWindows() \n",
    "    \n",
    "    return"
   ]
  },
  {
   "cell_type": "code",
   "execution_count": null,
   "metadata": {},
   "outputs": [],
   "source": [
    "fun10()"
   ]
  },
  {
   "cell_type": "code",
   "execution_count": null,
   "metadata": {},
   "outputs": [],
   "source": [
    "help(fun10)"
   ]
  },
  {
   "cell_type": "code",
   "execution_count": null,
   "metadata": {},
   "outputs": [],
   "source": []
  },
  {
   "cell_type": "markdown",
   "metadata": {},
   "source": [
    "# Ans 11"
   ]
  },
  {
   "cell_type": "raw",
   "metadata": {},
   "source": [
    "write a function which can read video file and play for you ."
   ]
  },
  {
   "cell_type": "code",
   "execution_count": 5,
   "metadata": {},
   "outputs": [],
   "source": [
    "# importing libraries\n",
    "import cv2\n",
    "import numpy as np\n",
    "\n",
    "def fun11() :\n",
    "    \"\"\"\n",
    "    This function uses open cv and numpy to play the video.\n",
    "    \"\"\"\n",
    "    # Create a VideoCapture object and read from input file\n",
    "    cap = cv2.VideoCapture('sample.mp4')\n",
    "\n",
    "    # Check if camera opened successfully\n",
    "    if (cap.isOpened()== False):\n",
    "        print(\"Error opening video file\")\n",
    "\n",
    "    # Read until video is completed\n",
    "    while(cap.isOpened()):\n",
    "\n",
    "        # Capture frame-by-frame\n",
    "        ret, frame = cap.read()\n",
    "        if ret == True:\n",
    "\n",
    "            # Display the resulting frame\n",
    "            cv2.imshow('Frame', frame)\n",
    "\n",
    "            # Press Q on keyboard to exit\n",
    "            if cv2.waitKey(25) & 0xFF == ord('q'):\n",
    "                break\n",
    "\n",
    "        # Break the loop\n",
    "        else:\n",
    "            break\n",
    "\n",
    "    # When everything done, release\n",
    "    # the video capture object\n",
    "    cap.release()\n",
    "\n",
    "    # Closes all the frames\n",
    "    cv2.destroyAllWindows()\n",
    "    \n",
    "    return\n"
   ]
  },
  {
   "cell_type": "code",
   "execution_count": 6,
   "metadata": {},
   "outputs": [],
   "source": [
    "fun11()"
   ]
  },
  {
   "cell_type": "code",
   "execution_count": 7,
   "metadata": {},
   "outputs": [
    {
     "name": "stdout",
     "output_type": "stream",
     "text": [
      "Help on function fun11 in module __main__:\n",
      "\n",
      "fun11()\n",
      "    This function uses open cv and numpy to play the video.\n",
      "\n"
     ]
    }
   ],
   "source": [
    "help(fun11)"
   ]
  },
  {
   "cell_type": "code",
   "execution_count": null,
   "metadata": {},
   "outputs": [],
   "source": []
  },
  {
   "cell_type": "code",
   "execution_count": null,
   "metadata": {},
   "outputs": [],
   "source": []
  },
  {
   "cell_type": "markdown",
   "metadata": {},
   "source": [
    "# Ans 12"
   ]
  },
  {
   "cell_type": "raw",
   "metadata": {},
   "source": [
    "write a function which can move a file from one directory to another directory ."
   ]
  },
  {
   "cell_type": "code",
   "execution_count": 13,
   "metadata": {},
   "outputs": [],
   "source": [
    "import os\n",
    "  \n",
    "def fun12() :\n",
    "    \"\"\"\n",
    "    This function moves all the files from one directory to another directory.\n",
    "    \"\"\"\n",
    "    source = 'C:/Users/coolh/sample/source/'\n",
    "    destination = 'C:/Users/coolh/sample/destination/'\n",
    "\n",
    "    allfiles = os.listdir(source)\n",
    "\n",
    "    print(allfiles, \"moved to the requested destination!\")\n",
    "\n",
    "    for f in allfiles:\n",
    "        os.rename(source + f, destination + f)\n",
    "        \n",
    "    return"
   ]
  },
  {
   "cell_type": "code",
   "execution_count": 14,
   "metadata": {},
   "outputs": [
    {
     "name": "stdout",
     "output_type": "stream",
     "text": [
      "[] moved to the requested destination!\n"
     ]
    }
   ],
   "source": [
    "fun12()"
   ]
  },
  {
   "cell_type": "code",
   "execution_count": 15,
   "metadata": {},
   "outputs": [
    {
     "name": "stdout",
     "output_type": "stream",
     "text": [
      "Help on function fun12 in module __main__:\n",
      "\n",
      "fun12()\n",
      "    This function moves all the files from one directory to another directory.\n",
      "\n"
     ]
    }
   ],
   "source": [
    "help(fun12)"
   ]
  },
  {
   "cell_type": "code",
   "execution_count": null,
   "metadata": {},
   "outputs": [],
   "source": []
  },
  {
   "cell_type": "markdown",
   "metadata": {},
   "source": [
    "# Ans 13"
   ]
  },
  {
   "cell_type": "raw",
   "metadata": {},
   "source": [
    "write a function which will be able to shutdown your system . "
   ]
  },
  {
   "cell_type": "code",
   "execution_count": null,
   "metadata": {},
   "outputs": [],
   "source": [
    "import os\n",
    "\n",
    "def fun13(a):\n",
    "    \"\"\"\n",
    "    This function shutdowns the system(Jupyter-Kernel).\n",
    "    \"\"\"\n",
    "    if a == 'no' or 'No' or 'NO' :\n",
    "        exit()\n",
    "    else :\n",
    "        os.system('shutdown /p /f')"
   ]
  },
  {
   "cell_type": "code",
   "execution_count": null,
   "metadata": {},
   "outputs": [],
   "source": [
    "a = input(\"Showdown? (Yes / No) : \")\n",
    "fun13(a)"
   ]
  },
  {
   "cell_type": "code",
   "execution_count": null,
   "metadata": {},
   "outputs": [],
   "source": [
    "help(fun13)"
   ]
  },
  {
   "cell_type": "markdown",
   "metadata": {},
   "source": [
    "# Ans 14"
   ]
  },
  {
   "cell_type": "raw",
   "metadata": {},
   "source": [
    "write a function which will be able to access your mail . "
   ]
  },
  {
   "cell_type": "code",
   "execution_count": 26,
   "metadata": {},
   "outputs": [],
   "source": [
    "# Importing libraries\n",
    "import imaplib\n",
    "import base64\n",
    "import os\n",
    "import email\n",
    "\n",
    "def fun14() :\n",
    "    \"\"\"\n",
    "    This function displays all the mails from your inbox\n",
    "    \"\"\"\n",
    "    email_user = input('Email: ')\n",
    "    email_pass = input('Password: ')\n",
    "\n",
    "    host = 'imap.gmail.com'\n",
    "    port = 993\n",
    "\n",
    "    mail = imaplib.IMAP4_SSL(host,port)\n",
    "\n",
    "    mail.login(email_user, email_pass)\n",
    "\n",
    "    mail.select()\n",
    "\n",
    "    type, data = mail.search(None, 'ALL')\n",
    "    mail_ids = data[0]\n",
    "    id_list = mail_ids.split()\n",
    "\n",
    "    for num in data[0].split():\n",
    "        typ, data = mail.fetch(num, '(RFC822)' )\n",
    "        raw_email = data[0][1]\n",
    "\n",
    "    # converts byte literal to string removing b''\n",
    "        raw_email_string = raw_email.decode('utf-8')\n",
    "        email_message = email.message_from_string(raw_email_string)\n",
    "\n",
    "    # downloading attachments\n",
    "        for part in email_message.walk():\n",
    "\n",
    "            # this part comes from the snipped I don't understand yet... \n",
    "            if part.get_content_maintype() == 'multipart':\n",
    "                continue\n",
    "\n",
    "            if part.get('Content-Disposition') is None:\n",
    "                continue\n",
    "\n",
    "            fileName = part.get_filename()\n",
    "\n",
    "            if bool(fileName):\n",
    "                filePath = os.path.join('/Users/coolh/sample/', fileName)\n",
    "\n",
    "                if not os.path.isfile(filePath) :\n",
    "                    fp = open(filePath, 'wb')\n",
    "                    fp.write(part.get_payload(decode=True))\n",
    "                    fp.close()\n",
    "\n",
    "                subject = str(email_message).split(\"Subject: \", 1)[1].split(\"\\nTo:\", 1)[0]\n",
    "                print('Downloaded \"{file}\" from email titled \"{subject}\" with UID {uid}.'.format(file=fileName, subject=subject, uid=latest_email_uid.decode('utf-8')))\n",
    "\n",
    "    for response_part in data:\n",
    "            if isinstance(response_part, tuple):\n",
    "                msg = email.message_from_string(response_part[1].decode('utf-8'))\n",
    "                email_subject = msg['subject']\n",
    "                email_from = msg['from']\n",
    "                print ('From : ' + email_from + '\\n')\n",
    "                print ('Subject : ' + email_subject + '\\n')\n",
    "                print(msg.get_payload(decode=True))\n",
    "                \n",
    "    return"
   ]
  },
  {
   "cell_type": "code",
   "execution_count": 28,
   "metadata": {},
   "outputs": [
    {
     "name": "stdout",
     "output_type": "stream",
     "text": [
      "Email: harshkumar.smc@gmail.com\n",
      "Password: Ravi@123.\n"
     ]
    },
    {
     "ename": "error",
     "evalue": "b'[AUTHENTICATIONFAILED] Invalid credentials (Failure)'",
     "output_type": "error",
     "traceback": [
      "\u001b[1;31m---------------------------------------------------------------------------\u001b[0m",
      "\u001b[1;31merror\u001b[0m                                     Traceback (most recent call last)",
      "\u001b[1;32m<ipython-input-28-fff4f6728c8e>\u001b[0m in \u001b[0;36m<module>\u001b[1;34m\u001b[0m\n\u001b[1;32m----> 1\u001b[1;33m \u001b[0mfun14\u001b[0m\u001b[1;33m(\u001b[0m\u001b[1;33m)\u001b[0m\u001b[1;33m\u001b[0m\u001b[1;33m\u001b[0m\u001b[0m\n\u001b[0m",
      "\u001b[1;32m<ipython-input-26-cbc94ffa5165>\u001b[0m in \u001b[0;36mfun14\u001b[1;34m()\u001b[0m\n\u001b[0;32m     17\u001b[0m     \u001b[0mmail\u001b[0m \u001b[1;33m=\u001b[0m \u001b[0mimaplib\u001b[0m\u001b[1;33m.\u001b[0m\u001b[0mIMAP4_SSL\u001b[0m\u001b[1;33m(\u001b[0m\u001b[0mhost\u001b[0m\u001b[1;33m,\u001b[0m\u001b[0mport\u001b[0m\u001b[1;33m)\u001b[0m\u001b[1;33m\u001b[0m\u001b[1;33m\u001b[0m\u001b[0m\n\u001b[0;32m     18\u001b[0m \u001b[1;33m\u001b[0m\u001b[0m\n\u001b[1;32m---> 19\u001b[1;33m     \u001b[0mmail\u001b[0m\u001b[1;33m.\u001b[0m\u001b[0mlogin\u001b[0m\u001b[1;33m(\u001b[0m\u001b[0memail_user\u001b[0m\u001b[1;33m,\u001b[0m \u001b[0memail_pass\u001b[0m\u001b[1;33m)\u001b[0m\u001b[1;33m\u001b[0m\u001b[1;33m\u001b[0m\u001b[0m\n\u001b[0m\u001b[0;32m     20\u001b[0m \u001b[1;33m\u001b[0m\u001b[0m\n\u001b[0;32m     21\u001b[0m     \u001b[0mmail\u001b[0m\u001b[1;33m.\u001b[0m\u001b[0mselect\u001b[0m\u001b[1;33m(\u001b[0m\u001b[1;33m)\u001b[0m\u001b[1;33m\u001b[0m\u001b[1;33m\u001b[0m\u001b[0m\n",
      "\u001b[1;32m~\\anaconda3\\lib\\imaplib.py\u001b[0m in \u001b[0;36mlogin\u001b[1;34m(self, user, password)\u001b[0m\n\u001b[0;32m    601\u001b[0m         \u001b[0mtyp\u001b[0m\u001b[1;33m,\u001b[0m \u001b[0mdat\u001b[0m \u001b[1;33m=\u001b[0m \u001b[0mself\u001b[0m\u001b[1;33m.\u001b[0m\u001b[0m_simple_command\u001b[0m\u001b[1;33m(\u001b[0m\u001b[1;34m'LOGIN'\u001b[0m\u001b[1;33m,\u001b[0m \u001b[0muser\u001b[0m\u001b[1;33m,\u001b[0m \u001b[0mself\u001b[0m\u001b[1;33m.\u001b[0m\u001b[0m_quote\u001b[0m\u001b[1;33m(\u001b[0m\u001b[0mpassword\u001b[0m\u001b[1;33m)\u001b[0m\u001b[1;33m)\u001b[0m\u001b[1;33m\u001b[0m\u001b[1;33m\u001b[0m\u001b[0m\n\u001b[0;32m    602\u001b[0m         \u001b[1;32mif\u001b[0m \u001b[0mtyp\u001b[0m \u001b[1;33m!=\u001b[0m \u001b[1;34m'OK'\u001b[0m\u001b[1;33m:\u001b[0m\u001b[1;33m\u001b[0m\u001b[1;33m\u001b[0m\u001b[0m\n\u001b[1;32m--> 603\u001b[1;33m             \u001b[1;32mraise\u001b[0m \u001b[0mself\u001b[0m\u001b[1;33m.\u001b[0m\u001b[0merror\u001b[0m\u001b[1;33m(\u001b[0m\u001b[0mdat\u001b[0m\u001b[1;33m[\u001b[0m\u001b[1;33m-\u001b[0m\u001b[1;36m1\u001b[0m\u001b[1;33m]\u001b[0m\u001b[1;33m)\u001b[0m\u001b[1;33m\u001b[0m\u001b[1;33m\u001b[0m\u001b[0m\n\u001b[0m\u001b[0;32m    604\u001b[0m         \u001b[0mself\u001b[0m\u001b[1;33m.\u001b[0m\u001b[0mstate\u001b[0m \u001b[1;33m=\u001b[0m \u001b[1;34m'AUTH'\u001b[0m\u001b[1;33m\u001b[0m\u001b[1;33m\u001b[0m\u001b[0m\n\u001b[0;32m    605\u001b[0m         \u001b[1;32mreturn\u001b[0m \u001b[0mtyp\u001b[0m\u001b[1;33m,\u001b[0m \u001b[0mdat\u001b[0m\u001b[1;33m\u001b[0m\u001b[1;33m\u001b[0m\u001b[0m\n",
      "\u001b[1;31merror\u001b[0m: b'[AUTHENTICATIONFAILED] Invalid credentials (Failure)'"
     ]
    }
   ],
   "source": [
    "fun14()"
   ]
  },
  {
   "cell_type": "code",
   "execution_count": 27,
   "metadata": {},
   "outputs": [
    {
     "name": "stdout",
     "output_type": "stream",
     "text": [
      "Help on function fun14 in module __main__:\n",
      "\n",
      "fun14()\n",
      "    This function displays all the mails from your inbox\n",
      "\n"
     ]
    }
   ],
   "source": [
    "help(fun14)"
   ]
  },
  {
   "cell_type": "markdown",
   "metadata": {},
   "source": [
    "# Ans 15"
   ]
  },
  {
   "cell_type": "raw",
   "metadata": {},
   "source": [
    "write a func by which i can send a mail to anyone"
   ]
  },
  {
   "cell_type": "code",
   "execution_count": 31,
   "metadata": {},
   "outputs": [],
   "source": [
    "import smtplib\n",
    "from email.mime.multipart import MIMEMultipart\n",
    "from email.mime.text import MIMEText\n",
    "\n",
    "def fun15() :\n",
    "    \"\"\"\n",
    "    This function sends a mail from one mail id to another. \n",
    "    \"\"\"\n",
    "    mail_content = ''' Hello,\n",
    "    This is a simple mail. There is only text, no attachments are there The mail is sent using Python SMTP library.\n",
    "    Thank You!\n",
    "    '''\n",
    "    #The mail addresses and password\n",
    "    sender_address = input(\"Enter the Sender's mail id : \")\n",
    "    sender_pass = input(\"Enter the Sender's mail password : \")\n",
    "    receiver_address = input(\"Enter the Receiver's mail id : \")\n",
    "    #Setup the MIME\n",
    "    message = MIMEMultipart()\n",
    "    message['From'] = sender_address\n",
    "    message['To'] = receiver_address\n",
    "    message['Subject'] = 'A test mail sent by Python. It has an attachment.'   #The subject line\n",
    "    #The body and the attachments for the mail\n",
    "    message.attach(MIMEText(mail_content, 'plain'))\n",
    "    #Create SMTP session for sending the mail\n",
    "    session = smtplib.SMTP('smtp.gmail.com', 587) #use gmail with port\n",
    "    session.starttls() #enable security\n",
    "    session.login(sender_address, sender_pass) #login with mail_id and password\n",
    "    text = message.as_string()\n",
    "    session.sendmail(sender_address, receiver_address, text)\n",
    "    session.quit()\n",
    "    print('Mail Sent')\n",
    "    \n",
    "    return"
   ]
  },
  {
   "cell_type": "code",
   "execution_count": null,
   "metadata": {},
   "outputs": [],
   "source": [
    "fun15()"
   ]
  },
  {
   "cell_type": "code",
   "execution_count": 32,
   "metadata": {},
   "outputs": [
    {
     "name": "stdout",
     "output_type": "stream",
     "text": [
      "Help on function fun15 in module __main__:\n",
      "\n",
      "fun15()\n",
      "    This function sends a mail from one mail id to another.\n",
      "\n"
     ]
    }
   ],
   "source": [
    "help(fun15)"
   ]
  },
  {
   "cell_type": "code",
   "execution_count": null,
   "metadata": {},
   "outputs": [],
   "source": []
  },
  {
   "cell_type": "markdown",
   "metadata": {},
   "source": [
    "# Ans 16"
   ]
  },
  {
   "cell_type": "raw",
   "metadata": {},
   "source": [
    "write a func to read a complete PDf file"
   ]
  },
  {
   "cell_type": "code",
   "execution_count": 45,
   "metadata": {},
   "outputs": [],
   "source": [
    "# importing all the required modules\n",
    "import PyPDF2\n",
    "\n",
    "def fun16() :\n",
    "    \"\"\"\n",
    "    This function reads the pdf file.\n",
    "    \"\"\"\n",
    "    # creating an object \n",
    "    file = open('C:/Users/coolh/sample/sample.pdf', 'rb')\n",
    "\n",
    "    # creating a pdf reader object\n",
    "    fileReader = PyPDF2.PdfFileReader(file)\n",
    "\n",
    "    pages = fileReader.numPages\n",
    "\n",
    "    # print the number of pages in pdf file\n",
    "    print(\"Total no. of pages in the pdf is : \", pages)\n",
    "\n",
    "    for i in range(pages):\n",
    "\n",
    "        #extract the page\n",
    "        page = fileReader.getPage(i)\n",
    "\n",
    "        #print the page text content along with page number\n",
    "        print(\"Page no:\",i+1)\n",
    "        print()\n",
    "        print(page.extractText())\n",
    "        print()\n",
    "\n",
    "        return"
   ]
  },
  {
   "cell_type": "code",
   "execution_count": 46,
   "metadata": {},
   "outputs": [
    {
     "name": "stdout",
     "output_type": "stream",
     "text": [
      "Total no. of pages in the pdf is :  2\n",
      "Page no: 1\n",
      "\n",
      " A Simple PDF File  This is a small demonstration .pdf file -  just for use in the Virtual Mechanics tutorials. More text. And more  text. And more text. And more text. And more text.  And more text. And more text. And more text. And more text. And more  text. And more text. Boring, zzzzz. And more text. And more text. And  more text. And more text. And more text. And more text. And more text.  And more text. And more text.  And more text. And more text. And more text. And more text. And more  text. And more text. And more text. Even more. Continued on page 2 ...\n",
      "\n"
     ]
    }
   ],
   "source": [
    "fun16()"
   ]
  },
  {
   "cell_type": "code",
   "execution_count": 47,
   "metadata": {},
   "outputs": [
    {
     "name": "stdout",
     "output_type": "stream",
     "text": [
      "Help on function fun16 in module __main__:\n",
      "\n",
      "fun16()\n",
      "    This function reads the pdf file.\n",
      "\n"
     ]
    }
   ],
   "source": [
    "help(fun16)"
   ]
  },
  {
   "cell_type": "code",
   "execution_count": null,
   "metadata": {},
   "outputs": [],
   "source": []
  },
  {
   "cell_type": "markdown",
   "metadata": {},
   "source": [
    "# Ans 17"
   ]
  },
  {
   "cell_type": "raw",
   "metadata": {},
   "source": [
    "write a function to read a word file"
   ]
  },
  {
   "cell_type": "code",
   "execution_count": 100,
   "metadata": {},
   "outputs": [],
   "source": [
    "import docx\n",
    "\n",
    "def fun17() :\n",
    "    \"\"\"\n",
    "    This function reads a word file.\n",
    "    \"\"\"\n",
    "    doc = docx.Document(\"C:/Users/coolh/sample/sample.docx\")\n",
    "\n",
    "    all_paras = doc.paragraphs\n",
    "    print(\"\\nTotal no. of paragraphs is : \", len(all_paras))\n",
    "    print()\n",
    "            \n",
    "    count = 0\n",
    "\n",
    "    for para in all_paras :\n",
    "        print(para.text)\n",
    "        count = count + 1\n",
    "        print(\"\\t\\t*****\",count,\"*****\")\n",
    "\n",
    "    return\n",
    "    "
   ]
  },
  {
   "cell_type": "code",
   "execution_count": 101,
   "metadata": {},
   "outputs": [
    {
     "name": "stdout",
     "output_type": "stream",
     "text": [
      "\n",
      "Total no. of paragraphs is :  16\n",
      "\n",
      "\tLorem ipsum \t\n",
      "\t\t***** 1 *****\n",
      "\n",
      "\t\t***** 2 *****\n",
      "Lorem ipsum dolor sit amet, consectetur adipiscing elit. Nunc ac faucibus odio. \n",
      "\t\t***** 3 *****\n",
      "\n",
      "\t\t***** 4 *****\n",
      "Vestibulum neque massa, scelerisque sit amet ligula eu, congue molestie mi. Praesent ut varius sem. Nullam at porttitor arcu, nec lacinia nisi. Ut ac dolor vitae odio interdum condimentum. Vivamus dapibus sodales ex, vitae malesuada ipsum cursus convallis. Maecenas sed egestas nulla, ac condimentum orci. Mauris diam felis, vulputate ac suscipit et, iaculis non est. Curabitur semper arcu ac ligula semper, nec luctus nisl blandit. Integer lacinia ante ac libero lobortis imperdiet. Nullam mollis convallis ipsum, ac accumsan nunc vehicula vitae. Nulla eget justo in felis tristique fringilla. Morbi sit amet tortor quis risus auctor condimentum. Morbi in ullamcorper elit. Nulla iaculis tellus sit amet mauris tempus fringilla.\n",
      "\t\t***** 5 *****\n",
      "Maecenas mauris lectus, lobortis et purus mattis, blandit dictum tellus.\n",
      "\t\t***** 6 *****\n",
      "Maecenas non lorem quis tellus placerat varius. \n",
      "\t\t***** 7 *****\n",
      "Nulla facilisi. \n",
      "\t\t***** 8 *****\n",
      "Aenean congue fringilla justo ut aliquam. \n",
      "\t\t***** 9 *****\n",
      "Nunc vulputate neque vitae justo facilisis, non condimentum ante sagittis. \n",
      "\t\t***** 10 *****\n",
      "Morbi viverra semper lorem nec molestie. \n",
      "\t\t***** 11 *****\n",
      "Maecenas tincidunt est efficitur ligula euismod, sit amet ornare est vulputate.\n",
      "\t\t***** 12 *****\n",
      "\n",
      "\t\t***** 13 *****\n",
      "Lorem ipsum dolor sit amet, consectetur adipiscing elit. \n",
      "\t\t***** 14 *****\n",
      "\n",
      "\t\t***** 15 *****\n",
      "Nunc ac faucibus odio. Vestibulum neque massa, scelerisque sit amet ligula eu, congue molestie mi. Praesent ut varius sem. Nullam at porttitor arcu, nec lacinia nisi. Ut ac dolor vitae odio interdum condimentum. Vivamus dapibus sodales ex, vitae malesuada ipsum cursus convallis. Maecenas sed egestas nulla, ac condimentum orci. Mauris diam felis, vulputate ac suscipit et, iaculis non est. Curabitur semper arcu ac ligula semper, nec luctus nisl blandit. Integer lacinia ante ac libero lobortis imperdiet. Nullam mollis convallis ipsum, ac accumsan nunc vehicula vitae. Nulla eget justo in felis tristique fringilla. Morbi sit amet tortor quis risus auctor condimentum. Morbi in ullamcorper elit. Nulla iaculis \n",
      "\t\t***** 16 *****\n"
     ]
    }
   ],
   "source": [
    "fun17()"
   ]
  },
  {
   "cell_type": "code",
   "execution_count": 102,
   "metadata": {},
   "outputs": [
    {
     "name": "stdout",
     "output_type": "stream",
     "text": [
      "Help on function fun17 in module __main__:\n",
      "\n",
      "fun17()\n",
      "    This function reads a word file.\n",
      "\n"
     ]
    }
   ],
   "source": [
    "help(fun17)"
   ]
  },
  {
   "cell_type": "code",
   "execution_count": null,
   "metadata": {},
   "outputs": [],
   "source": []
  },
  {
   "cell_type": "markdown",
   "metadata": {},
   "source": [
    "# Ans 18"
   ]
  },
  {
   "cell_type": "raw",
   "metadata": {},
   "source": [
    "write a function which can help you to filter only word file from a directory ."
   ]
  },
  {
   "cell_type": "code",
   "execution_count": 105,
   "metadata": {},
   "outputs": [],
   "source": [
    "#import fnmatch and os\n",
    "import os, fnmatch\n",
    "\n",
    "def fun18() :\n",
    "    \"\"\"\n",
    "    This function helps us filter out all the word files from the given directory.\n",
    "    \"\"\"\n",
    "    #path to use\n",
    "    path = \"C:/Users/coolh/sample/\"\n",
    "\n",
    "    #filter for all the python files\n",
    "    files = fnmatch.filter(os.listdir(path), \"*.docx\")\n",
    "\n",
    "    #display the python files\n",
    "    print(files, \"are the required word files!\")\n",
    "    \n",
    "    return"
   ]
  },
  {
   "cell_type": "code",
   "execution_count": 106,
   "metadata": {},
   "outputs": [
    {
     "name": "stdout",
     "output_type": "stream",
     "text": [
      "['sample.docx', 'test.docx'] are the required word files!\n"
     ]
    }
   ],
   "source": [
    "fun18()"
   ]
  },
  {
   "cell_type": "code",
   "execution_count": 107,
   "metadata": {},
   "outputs": [
    {
     "name": "stdout",
     "output_type": "stream",
     "text": [
      "Help on function fun18 in module __main__:\n",
      "\n",
      "fun18()\n",
      "    This function helps us filter out all the word files from the given directory.\n",
      "\n"
     ]
    }
   ],
   "source": [
    "help(fun18)"
   ]
  },
  {
   "cell_type": "markdown",
   "metadata": {},
   "source": [
    "# Ans 19"
   ]
  },
  {
   "cell_type": "raw",
   "metadata": {},
   "source": [
    "write a function by which you can print an ip address of your system."
   ]
  },
  {
   "cell_type": "code",
   "execution_count": 111,
   "metadata": {},
   "outputs": [],
   "source": [
    "\n",
    "def fun19 () :\n",
    "    \"\"\"\n",
    "    This function prints an ip address of your system.\n",
    "    \"\"\"\n",
    "    # Python Program to Get IP Address\n",
    "    import socket\n",
    "    \n",
    "    hostname = socket.gethostname()\n",
    "    IPAddr = socket.gethostbyname(hostname)\n",
    "    \n",
    "    print(\"Your Computer Name is : \" + hostname)\n",
    "    print(\"Your Computer IP Address is : \" + IPAddr)\n",
    "    \n",
    "    return\n"
   ]
  },
  {
   "cell_type": "code",
   "execution_count": 112,
   "metadata": {},
   "outputs": [
    {
     "name": "stdout",
     "output_type": "stream",
     "text": [
      "Your Computer Name is : LAPTOP-SH5C8PV1\n",
      "Your Computer IP Address is : 192.168.73.1\n"
     ]
    }
   ],
   "source": [
    "fun19()"
   ]
  },
  {
   "cell_type": "code",
   "execution_count": 113,
   "metadata": {},
   "outputs": [
    {
     "name": "stdout",
     "output_type": "stream",
     "text": [
      "Help on function fun19 in module __main__:\n",
      "\n",
      "fun19()\n",
      "    This function prints an ip address of your system.\n",
      "\n"
     ]
    }
   ],
   "source": [
    "help(fun19)"
   ]
  },
  {
   "cell_type": "code",
   "execution_count": null,
   "metadata": {},
   "outputs": [],
   "source": []
  },
  {
   "cell_type": "markdown",
   "metadata": {},
   "source": [
    "# Ans 20"
   ]
  },
  {
   "cell_type": "raw",
   "metadata": {},
   "source": [
    "write a function by which you will be able to append two PDF files."
   ]
  },
  {
   "cell_type": "code",
   "execution_count": 118,
   "metadata": {},
   "outputs": [],
   "source": [
    "def fun20() :\n",
    "    \"\"\"\n",
    "    This function  appends/ merges two pdf files.\n",
    "    \"\"\"\n",
    "    from PyPDF2 import PdfFileReader, PdfFileMerger\n",
    "\n",
    "    pdf_file1 = PdfFileReader(\"C:/Users/coolh/sample/dummy1.pdf\")\n",
    "    pdf_file2 = PdfFileReader(\"C:/Users/coolh/sample/dummy2.pdf\")\n",
    "\n",
    "    output = PdfFileMerger()\n",
    "\n",
    "    output.append(pdf_file1)\n",
    "    output.append(pdf_file2)\n",
    "\n",
    "    with open(\"C:/Users/coolh/sample/mergedDummy.pdf\", \"wb\") as output_stream :\n",
    "        output.write(output_stream)\n",
    "        \n",
    "    return"
   ]
  },
  {
   "cell_type": "code",
   "execution_count": 119,
   "metadata": {},
   "outputs": [],
   "source": [
    "fun20()"
   ]
  },
  {
   "cell_type": "code",
   "execution_count": 120,
   "metadata": {},
   "outputs": [
    {
     "name": "stdout",
     "output_type": "stream",
     "text": [
      "Help on function fun20 in module __main__:\n",
      "\n",
      "fun20()\n",
      "    This function  appends/ merges two pdf files.\n",
      "\n"
     ]
    }
   ],
   "source": [
    "help(fun20)"
   ]
  },
  {
   "cell_type": "code",
   "execution_count": null,
   "metadata": {},
   "outputs": [],
   "source": []
  }
 ],
 "metadata": {
  "kernelspec": {
   "display_name": "Python 3",
   "language": "python",
   "name": "python3"
  },
  "language_info": {
   "codemirror_mode": {
    "name": "ipython",
    "version": 3
   },
   "file_extension": ".py",
   "mimetype": "text/x-python",
   "name": "python",
   "nbconvert_exporter": "python",
   "pygments_lexer": "ipython3",
   "version": "3.8.5"
  }
 },
 "nbformat": 4,
 "nbformat_minor": 4
}
